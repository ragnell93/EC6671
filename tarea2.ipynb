{
 "cells": [
  {
   "cell_type": "markdown",
   "id": "accepting-canvas",
   "metadata": {},
   "source": [
    "# Tarea 2"
   ]
  },
  {
   "cell_type": "markdown",
   "id": "enabling-swing",
   "metadata": {},
   "source": [
    "## Ejercicio 1"
   ]
  },
  {
   "cell_type": "markdown",
   "id": "prime-costs",
   "metadata": {},
   "source": [
    "El procedimeinto usado para calcular el SNR de las señales es a partir de la relación entre la amplitud de pico a pico de la señal y del ruido. El procedimiento es el propuesto en [1]"
   ]
  },
  {
   "cell_type": "code",
   "execution_count": 2,
   "id": "brave-scroll",
   "metadata": {},
   "outputs": [
    {
     "data": {
      "application/javascript": [
       "\n",
       "(function(root) {\n",
       "  function now() {\n",
       "    return new Date();\n",
       "  }\n",
       "\n",
       "  var force = true;\n",
       "\n",
       "  if (typeof root._bokeh_onload_callbacks === \"undefined\" || force === true) {\n",
       "    root._bokeh_onload_callbacks = [];\n",
       "    root._bokeh_is_loading = undefined;\n",
       "  }\n",
       "\n",
       "  var JS_MIME_TYPE = 'application/javascript';\n",
       "  var HTML_MIME_TYPE = 'text/html';\n",
       "  var EXEC_MIME_TYPE = 'application/vnd.bokehjs_exec.v0+json';\n",
       "  var CLASS_NAME = 'output_bokeh rendered_html';\n",
       "\n",
       "  /**\n",
       "   * Render data to the DOM node\n",
       "   */\n",
       "  function render(props, node) {\n",
       "    var script = document.createElement(\"script\");\n",
       "    node.appendChild(script);\n",
       "  }\n",
       "\n",
       "  /**\n",
       "   * Handle when an output is cleared or removed\n",
       "   */\n",
       "  function handleClearOutput(event, handle) {\n",
       "    var cell = handle.cell;\n",
       "\n",
       "    var id = cell.output_area._bokeh_element_id;\n",
       "    var server_id = cell.output_area._bokeh_server_id;\n",
       "    // Clean up Bokeh references\n",
       "    if (id != null && id in Bokeh.index) {\n",
       "      Bokeh.index[id].model.document.clear();\n",
       "      delete Bokeh.index[id];\n",
       "    }\n",
       "\n",
       "    if (server_id !== undefined) {\n",
       "      // Clean up Bokeh references\n",
       "      var cmd = \"from bokeh.io.state import curstate; print(curstate().uuid_to_server['\" + server_id + \"'].get_sessions()[0].document.roots[0]._id)\";\n",
       "      cell.notebook.kernel.execute(cmd, {\n",
       "        iopub: {\n",
       "          output: function(msg) {\n",
       "            var id = msg.content.text.trim();\n",
       "            if (id in Bokeh.index) {\n",
       "              Bokeh.index[id].model.document.clear();\n",
       "              delete Bokeh.index[id];\n",
       "            }\n",
       "          }\n",
       "        }\n",
       "      });\n",
       "      // Destroy server and session\n",
       "      var cmd = \"import bokeh.io.notebook as ion; ion.destroy_server('\" + server_id + \"')\";\n",
       "      cell.notebook.kernel.execute(cmd);\n",
       "    }\n",
       "  }\n",
       "\n",
       "  /**\n",
       "   * Handle when a new output is added\n",
       "   */\n",
       "  function handleAddOutput(event, handle) {\n",
       "    var output_area = handle.output_area;\n",
       "    var output = handle.output;\n",
       "\n",
       "    // limit handleAddOutput to display_data with EXEC_MIME_TYPE content only\n",
       "    if ((output.output_type != \"display_data\") || (!output.data.hasOwnProperty(EXEC_MIME_TYPE))) {\n",
       "      return\n",
       "    }\n",
       "\n",
       "    var toinsert = output_area.element.find(\".\" + CLASS_NAME.split(' ')[0]);\n",
       "\n",
       "    if (output.metadata[EXEC_MIME_TYPE][\"id\"] !== undefined) {\n",
       "      toinsert[toinsert.length - 1].firstChild.textContent = output.data[JS_MIME_TYPE];\n",
       "      // store reference to embed id on output_area\n",
       "      output_area._bokeh_element_id = output.metadata[EXEC_MIME_TYPE][\"id\"];\n",
       "    }\n",
       "    if (output.metadata[EXEC_MIME_TYPE][\"server_id\"] !== undefined) {\n",
       "      var bk_div = document.createElement(\"div\");\n",
       "      bk_div.innerHTML = output.data[HTML_MIME_TYPE];\n",
       "      var script_attrs = bk_div.children[0].attributes;\n",
       "      for (var i = 0; i < script_attrs.length; i++) {\n",
       "        toinsert[toinsert.length - 1].firstChild.setAttribute(script_attrs[i].name, script_attrs[i].value);\n",
       "        toinsert[toinsert.length - 1].firstChild.textContent = bk_div.children[0].textContent\n",
       "      }\n",
       "      // store reference to server id on output_area\n",
       "      output_area._bokeh_server_id = output.metadata[EXEC_MIME_TYPE][\"server_id\"];\n",
       "    }\n",
       "  }\n",
       "\n",
       "  function register_renderer(events, OutputArea) {\n",
       "\n",
       "    function append_mime(data, metadata, element) {\n",
       "      // create a DOM node to render to\n",
       "      var toinsert = this.create_output_subarea(\n",
       "        metadata,\n",
       "        CLASS_NAME,\n",
       "        EXEC_MIME_TYPE\n",
       "      );\n",
       "      this.keyboard_manager.register_events(toinsert);\n",
       "      // Render to node\n",
       "      var props = {data: data, metadata: metadata[EXEC_MIME_TYPE]};\n",
       "      render(props, toinsert[toinsert.length - 1]);\n",
       "      element.append(toinsert);\n",
       "      return toinsert\n",
       "    }\n",
       "\n",
       "    /* Handle when an output is cleared or removed */\n",
       "    events.on('clear_output.CodeCell', handleClearOutput);\n",
       "    events.on('delete.Cell', handleClearOutput);\n",
       "\n",
       "    /* Handle when a new output is added */\n",
       "    events.on('output_added.OutputArea', handleAddOutput);\n",
       "\n",
       "    /**\n",
       "     * Register the mime type and append_mime function with output_area\n",
       "     */\n",
       "    OutputArea.prototype.register_mime_type(EXEC_MIME_TYPE, append_mime, {\n",
       "      /* Is output safe? */\n",
       "      safe: true,\n",
       "      /* Index of renderer in `output_area.display_order` */\n",
       "      index: 0\n",
       "    });\n",
       "  }\n",
       "\n",
       "  // register the mime type if in Jupyter Notebook environment and previously unregistered\n",
       "  if (root.Jupyter !== undefined) {\n",
       "    var events = require('base/js/events');\n",
       "    var OutputArea = require('notebook/js/outputarea').OutputArea;\n",
       "\n",
       "    if (OutputArea.prototype.mime_types().indexOf(EXEC_MIME_TYPE) == -1) {\n",
       "      register_renderer(events, OutputArea);\n",
       "    }\n",
       "  }\n",
       "\n",
       "  \n",
       "  if (typeof (root._bokeh_timeout) === \"undefined\" || force === true) {\n",
       "    root._bokeh_timeout = Date.now() + 5000;\n",
       "    root._bokeh_failed_load = false;\n",
       "  }\n",
       "\n",
       "  var NB_LOAD_WARNING = {'data': {'text/html':\n",
       "     \"<div style='background-color: #fdd'>\\n\"+\n",
       "     \"<p>\\n\"+\n",
       "     \"BokehJS does not appear to have successfully loaded. If loading BokehJS from CDN, this \\n\"+\n",
       "     \"may be due to a slow or bad network connection. Possible fixes:\\n\"+\n",
       "     \"</p>\\n\"+\n",
       "     \"<ul>\\n\"+\n",
       "     \"<li>re-rerun `output_notebook()` to attempt to load from CDN again, or</li>\\n\"+\n",
       "     \"<li>use INLINE resources instead, as so:</li>\\n\"+\n",
       "     \"</ul>\\n\"+\n",
       "     \"<code>\\n\"+\n",
       "     \"from bokeh.resources import INLINE\\n\"+\n",
       "     \"output_notebook(resources=INLINE)\\n\"+\n",
       "     \"</code>\\n\"+\n",
       "     \"</div>\"}};\n",
       "\n",
       "  function display_loaded() {\n",
       "    var el = document.getElementById(null);\n",
       "    if (el != null) {\n",
       "      el.textContent = \"BokehJS is loading...\";\n",
       "    }\n",
       "    if (root.Bokeh !== undefined) {\n",
       "      if (el != null) {\n",
       "        el.textContent = \"BokehJS \" + root.Bokeh.version + \" successfully loaded.\";\n",
       "      }\n",
       "    } else if (Date.now() < root._bokeh_timeout) {\n",
       "      setTimeout(display_loaded, 100)\n",
       "    }\n",
       "  }\n",
       "\n",
       "\n",
       "  function run_callbacks() {\n",
       "    try {\n",
       "      root._bokeh_onload_callbacks.forEach(function(callback) {\n",
       "        if (callback != null)\n",
       "          callback();\n",
       "      });\n",
       "    } finally {\n",
       "      delete root._bokeh_onload_callbacks\n",
       "    }\n",
       "    console.debug(\"Bokeh: all callbacks have finished\");\n",
       "  }\n",
       "\n",
       "  function load_libs(css_urls, js_urls, callback) {\n",
       "    if (css_urls == null) css_urls = [];\n",
       "    if (js_urls == null) js_urls = [];\n",
       "\n",
       "    root._bokeh_onload_callbacks.push(callback);\n",
       "    if (root._bokeh_is_loading > 0) {\n",
       "      console.debug(\"Bokeh: BokehJS is being loaded, scheduling callback at\", now());\n",
       "      return null;\n",
       "    }\n",
       "    if (js_urls == null || js_urls.length === 0) {\n",
       "      run_callbacks();\n",
       "      return null;\n",
       "    }\n",
       "    console.debug(\"Bokeh: BokehJS not loaded, scheduling load and callback at\", now());\n",
       "    root._bokeh_is_loading = css_urls.length + js_urls.length;\n",
       "\n",
       "    function on_load() {\n",
       "      root._bokeh_is_loading--;\n",
       "      if (root._bokeh_is_loading === 0) {\n",
       "        console.debug(\"Bokeh: all BokehJS libraries/stylesheets loaded\");\n",
       "        run_callbacks()\n",
       "      }\n",
       "    }\n",
       "\n",
       "    function on_error() {\n",
       "      console.error(\"failed to load \" + url);\n",
       "    }\n",
       "\n",
       "    for (var i = 0; i < css_urls.length; i++) {\n",
       "      var url = css_urls[i];\n",
       "      const element = document.createElement(\"link\");\n",
       "      element.onload = on_load;\n",
       "      element.onerror = on_error;\n",
       "      element.rel = \"stylesheet\";\n",
       "      element.type = \"text/css\";\n",
       "      element.href = url;\n",
       "      console.debug(\"Bokeh: injecting link tag for BokehJS stylesheet: \", url);\n",
       "      document.body.appendChild(element);\n",
       "    }\n",
       "\n",
       "    const hashes = {\"https://cdn.bokeh.org/bokeh/release/bokeh-2.2.3.min.js\": \"T2yuo9Oe71Cz/I4X9Ac5+gpEa5a8PpJCDlqKYO0CfAuEszu1JrXLl8YugMqYe3sM\", \"https://cdn.bokeh.org/bokeh/release/bokeh-widgets-2.2.3.min.js\": \"98GDGJ0kOMCUMUePhksaQ/GYgB3+NH9h996V88sh3aOiUNX3N+fLXAtry6xctSZ6\", \"https://cdn.bokeh.org/bokeh/release/bokeh-tables-2.2.3.min.js\": \"89bArO+nlbP3sgakeHjCo1JYxYR5wufVgA3IbUvDY+K7w4zyxJqssu7wVnfeKCq8\"};\n",
       "\n",
       "    for (var i = 0; i < js_urls.length; i++) {\n",
       "      var url = js_urls[i];\n",
       "      var element = document.createElement('script');\n",
       "      element.onload = on_load;\n",
       "      element.onerror = on_error;\n",
       "      element.async = false;\n",
       "      element.src = url;\n",
       "      if (url in hashes) {\n",
       "        element.crossOrigin = \"anonymous\";\n",
       "        element.integrity = \"sha384-\" + hashes[url];\n",
       "      }\n",
       "      console.debug(\"Bokeh: injecting script tag for BokehJS library: \", url);\n",
       "      document.head.appendChild(element);\n",
       "    }\n",
       "  };\n",
       "\n",
       "  function inject_raw_css(css) {\n",
       "    const element = document.createElement(\"style\");\n",
       "    element.appendChild(document.createTextNode(css));\n",
       "    document.body.appendChild(element);\n",
       "  }\n",
       "\n",
       "  \n",
       "  var js_urls = [\"https://cdn.bokeh.org/bokeh/release/bokeh-2.2.3.min.js\", \"https://cdn.bokeh.org/bokeh/release/bokeh-widgets-2.2.3.min.js\", \"https://cdn.bokeh.org/bokeh/release/bokeh-tables-2.2.3.min.js\"];\n",
       "  var css_urls = [];\n",
       "  \n",
       "\n",
       "  var inline_js = [\n",
       "    function(Bokeh) {\n",
       "      Bokeh.set_log_level(\"info\");\n",
       "    },\n",
       "    function(Bokeh) {\n",
       "    \n",
       "    \n",
       "    }\n",
       "  ];\n",
       "\n",
       "  function run_inline_js() {\n",
       "    \n",
       "    if (root.Bokeh !== undefined || force === true) {\n",
       "      \n",
       "    for (var i = 0; i < inline_js.length; i++) {\n",
       "      inline_js[i].call(root, root.Bokeh);\n",
       "    }\n",
       "    } else if (Date.now() < root._bokeh_timeout) {\n",
       "      setTimeout(run_inline_js, 100);\n",
       "    } else if (!root._bokeh_failed_load) {\n",
       "      console.log(\"Bokeh: BokehJS failed to load within specified timeout.\");\n",
       "      root._bokeh_failed_load = true;\n",
       "    } else if (force !== true) {\n",
       "      var cell = $(document.getElementById(null)).parents('.cell').data().cell;\n",
       "      cell.output_area.append_execute_result(NB_LOAD_WARNING)\n",
       "    }\n",
       "\n",
       "  }\n",
       "\n",
       "  if (root._bokeh_is_loading === 0) {\n",
       "    console.debug(\"Bokeh: BokehJS loaded, going straight to plotting\");\n",
       "    run_inline_js();\n",
       "  } else {\n",
       "    load_libs(css_urls, js_urls, function() {\n",
       "      console.debug(\"Bokeh: BokehJS plotting callback run at\", now());\n",
       "      run_inline_js();\n",
       "    });\n",
       "  }\n",
       "}(window));"
      ],
      "application/vnd.bokehjs_load.v0+json": "\n(function(root) {\n  function now() {\n    return new Date();\n  }\n\n  var force = true;\n\n  if (typeof root._bokeh_onload_callbacks === \"undefined\" || force === true) {\n    root._bokeh_onload_callbacks = [];\n    root._bokeh_is_loading = undefined;\n  }\n\n  \n\n  \n  if (typeof (root._bokeh_timeout) === \"undefined\" || force === true) {\n    root._bokeh_timeout = Date.now() + 5000;\n    root._bokeh_failed_load = false;\n  }\n\n  var NB_LOAD_WARNING = {'data': {'text/html':\n     \"<div style='background-color: #fdd'>\\n\"+\n     \"<p>\\n\"+\n     \"BokehJS does not appear to have successfully loaded. If loading BokehJS from CDN, this \\n\"+\n     \"may be due to a slow or bad network connection. Possible fixes:\\n\"+\n     \"</p>\\n\"+\n     \"<ul>\\n\"+\n     \"<li>re-rerun `output_notebook()` to attempt to load from CDN again, or</li>\\n\"+\n     \"<li>use INLINE resources instead, as so:</li>\\n\"+\n     \"</ul>\\n\"+\n     \"<code>\\n\"+\n     \"from bokeh.resources import INLINE\\n\"+\n     \"output_notebook(resources=INLINE)\\n\"+\n     \"</code>\\n\"+\n     \"</div>\"}};\n\n  function display_loaded() {\n    var el = document.getElementById(null);\n    if (el != null) {\n      el.textContent = \"BokehJS is loading...\";\n    }\n    if (root.Bokeh !== undefined) {\n      if (el != null) {\n        el.textContent = \"BokehJS \" + root.Bokeh.version + \" successfully loaded.\";\n      }\n    } else if (Date.now() < root._bokeh_timeout) {\n      setTimeout(display_loaded, 100)\n    }\n  }\n\n\n  function run_callbacks() {\n    try {\n      root._bokeh_onload_callbacks.forEach(function(callback) {\n        if (callback != null)\n          callback();\n      });\n    } finally {\n      delete root._bokeh_onload_callbacks\n    }\n    console.debug(\"Bokeh: all callbacks have finished\");\n  }\n\n  function load_libs(css_urls, js_urls, callback) {\n    if (css_urls == null) css_urls = [];\n    if (js_urls == null) js_urls = [];\n\n    root._bokeh_onload_callbacks.push(callback);\n    if (root._bokeh_is_loading > 0) {\n      console.debug(\"Bokeh: BokehJS is being loaded, scheduling callback at\", now());\n      return null;\n    }\n    if (js_urls == null || js_urls.length === 0) {\n      run_callbacks();\n      return null;\n    }\n    console.debug(\"Bokeh: BokehJS not loaded, scheduling load and callback at\", now());\n    root._bokeh_is_loading = css_urls.length + js_urls.length;\n\n    function on_load() {\n      root._bokeh_is_loading--;\n      if (root._bokeh_is_loading === 0) {\n        console.debug(\"Bokeh: all BokehJS libraries/stylesheets loaded\");\n        run_callbacks()\n      }\n    }\n\n    function on_error() {\n      console.error(\"failed to load \" + url);\n    }\n\n    for (var i = 0; i < css_urls.length; i++) {\n      var url = css_urls[i];\n      const element = document.createElement(\"link\");\n      element.onload = on_load;\n      element.onerror = on_error;\n      element.rel = \"stylesheet\";\n      element.type = \"text/css\";\n      element.href = url;\n      console.debug(\"Bokeh: injecting link tag for BokehJS stylesheet: \", url);\n      document.body.appendChild(element);\n    }\n\n    const hashes = {\"https://cdn.bokeh.org/bokeh/release/bokeh-2.2.3.min.js\": \"T2yuo9Oe71Cz/I4X9Ac5+gpEa5a8PpJCDlqKYO0CfAuEszu1JrXLl8YugMqYe3sM\", \"https://cdn.bokeh.org/bokeh/release/bokeh-widgets-2.2.3.min.js\": \"98GDGJ0kOMCUMUePhksaQ/GYgB3+NH9h996V88sh3aOiUNX3N+fLXAtry6xctSZ6\", \"https://cdn.bokeh.org/bokeh/release/bokeh-tables-2.2.3.min.js\": \"89bArO+nlbP3sgakeHjCo1JYxYR5wufVgA3IbUvDY+K7w4zyxJqssu7wVnfeKCq8\"};\n\n    for (var i = 0; i < js_urls.length; i++) {\n      var url = js_urls[i];\n      var element = document.createElement('script');\n      element.onload = on_load;\n      element.onerror = on_error;\n      element.async = false;\n      element.src = url;\n      if (url in hashes) {\n        element.crossOrigin = \"anonymous\";\n        element.integrity = \"sha384-\" + hashes[url];\n      }\n      console.debug(\"Bokeh: injecting script tag for BokehJS library: \", url);\n      document.head.appendChild(element);\n    }\n  };\n\n  function inject_raw_css(css) {\n    const element = document.createElement(\"style\");\n    element.appendChild(document.createTextNode(css));\n    document.body.appendChild(element);\n  }\n\n  \n  var js_urls = [\"https://cdn.bokeh.org/bokeh/release/bokeh-2.2.3.min.js\", \"https://cdn.bokeh.org/bokeh/release/bokeh-widgets-2.2.3.min.js\", \"https://cdn.bokeh.org/bokeh/release/bokeh-tables-2.2.3.min.js\"];\n  var css_urls = [];\n  \n\n  var inline_js = [\n    function(Bokeh) {\n      Bokeh.set_log_level(\"info\");\n    },\n    function(Bokeh) {\n    \n    \n    }\n  ];\n\n  function run_inline_js() {\n    \n    if (root.Bokeh !== undefined || force === true) {\n      \n    for (var i = 0; i < inline_js.length; i++) {\n      inline_js[i].call(root, root.Bokeh);\n    }\n    } else if (Date.now() < root._bokeh_timeout) {\n      setTimeout(run_inline_js, 100);\n    } else if (!root._bokeh_failed_load) {\n      console.log(\"Bokeh: BokehJS failed to load within specified timeout.\");\n      root._bokeh_failed_load = true;\n    } else if (force !== true) {\n      var cell = $(document.getElementById(null)).parents('.cell').data().cell;\n      cell.output_area.append_execute_result(NB_LOAD_WARNING)\n    }\n\n  }\n\n  if (root._bokeh_is_loading === 0) {\n    console.debug(\"Bokeh: BokehJS loaded, going straight to plotting\");\n    run_inline_js();\n  } else {\n    load_libs(css_urls, js_urls, function() {\n      console.debug(\"Bokeh: BokehJS plotting callback run at\", now());\n      run_inline_js();\n    });\n  }\n}(window));"
     },
     "metadata": {},
     "output_type": "display_data"
    },
    {
     "data": {
      "application/javascript": [
       "\n",
       "(function(root) {\n",
       "  function now() {\n",
       "    return new Date();\n",
       "  }\n",
       "\n",
       "  var force = true;\n",
       "\n",
       "  if (typeof root._bokeh_onload_callbacks === \"undefined\" || force === true) {\n",
       "    root._bokeh_onload_callbacks = [];\n",
       "    root._bokeh_is_loading = undefined;\n",
       "  }\n",
       "\n",
       "  var JS_MIME_TYPE = 'application/javascript';\n",
       "  var HTML_MIME_TYPE = 'text/html';\n",
       "  var EXEC_MIME_TYPE = 'application/vnd.bokehjs_exec.v0+json';\n",
       "  var CLASS_NAME = 'output_bokeh rendered_html';\n",
       "\n",
       "  /**\n",
       "   * Render data to the DOM node\n",
       "   */\n",
       "  function render(props, node) {\n",
       "    var script = document.createElement(\"script\");\n",
       "    node.appendChild(script);\n",
       "  }\n",
       "\n",
       "  /**\n",
       "   * Handle when an output is cleared or removed\n",
       "   */\n",
       "  function handleClearOutput(event, handle) {\n",
       "    var cell = handle.cell;\n",
       "\n",
       "    var id = cell.output_area._bokeh_element_id;\n",
       "    var server_id = cell.output_area._bokeh_server_id;\n",
       "    // Clean up Bokeh references\n",
       "    if (id != null && id in Bokeh.index) {\n",
       "      Bokeh.index[id].model.document.clear();\n",
       "      delete Bokeh.index[id];\n",
       "    }\n",
       "\n",
       "    if (server_id !== undefined) {\n",
       "      // Clean up Bokeh references\n",
       "      var cmd = \"from bokeh.io.state import curstate; print(curstate().uuid_to_server['\" + server_id + \"'].get_sessions()[0].document.roots[0]._id)\";\n",
       "      cell.notebook.kernel.execute(cmd, {\n",
       "        iopub: {\n",
       "          output: function(msg) {\n",
       "            var id = msg.content.text.trim();\n",
       "            if (id in Bokeh.index) {\n",
       "              Bokeh.index[id].model.document.clear();\n",
       "              delete Bokeh.index[id];\n",
       "            }\n",
       "          }\n",
       "        }\n",
       "      });\n",
       "      // Destroy server and session\n",
       "      var cmd = \"import bokeh.io.notebook as ion; ion.destroy_server('\" + server_id + \"')\";\n",
       "      cell.notebook.kernel.execute(cmd);\n",
       "    }\n",
       "  }\n",
       "\n",
       "  /**\n",
       "   * Handle when a new output is added\n",
       "   */\n",
       "  function handleAddOutput(event, handle) {\n",
       "    var output_area = handle.output_area;\n",
       "    var output = handle.output;\n",
       "\n",
       "    // limit handleAddOutput to display_data with EXEC_MIME_TYPE content only\n",
       "    if ((output.output_type != \"display_data\") || (!output.data.hasOwnProperty(EXEC_MIME_TYPE))) {\n",
       "      return\n",
       "    }\n",
       "\n",
       "    var toinsert = output_area.element.find(\".\" + CLASS_NAME.split(' ')[0]);\n",
       "\n",
       "    if (output.metadata[EXEC_MIME_TYPE][\"id\"] !== undefined) {\n",
       "      toinsert[toinsert.length - 1].firstChild.textContent = output.data[JS_MIME_TYPE];\n",
       "      // store reference to embed id on output_area\n",
       "      output_area._bokeh_element_id = output.metadata[EXEC_MIME_TYPE][\"id\"];\n",
       "    }\n",
       "    if (output.metadata[EXEC_MIME_TYPE][\"server_id\"] !== undefined) {\n",
       "      var bk_div = document.createElement(\"div\");\n",
       "      bk_div.innerHTML = output.data[HTML_MIME_TYPE];\n",
       "      var script_attrs = bk_div.children[0].attributes;\n",
       "      for (var i = 0; i < script_attrs.length; i++) {\n",
       "        toinsert[toinsert.length - 1].firstChild.setAttribute(script_attrs[i].name, script_attrs[i].value);\n",
       "        toinsert[toinsert.length - 1].firstChild.textContent = bk_div.children[0].textContent\n",
       "      }\n",
       "      // store reference to server id on output_area\n",
       "      output_area._bokeh_server_id = output.metadata[EXEC_MIME_TYPE][\"server_id\"];\n",
       "    }\n",
       "  }\n",
       "\n",
       "  function register_renderer(events, OutputArea) {\n",
       "\n",
       "    function append_mime(data, metadata, element) {\n",
       "      // create a DOM node to render to\n",
       "      var toinsert = this.create_output_subarea(\n",
       "        metadata,\n",
       "        CLASS_NAME,\n",
       "        EXEC_MIME_TYPE\n",
       "      );\n",
       "      this.keyboard_manager.register_events(toinsert);\n",
       "      // Render to node\n",
       "      var props = {data: data, metadata: metadata[EXEC_MIME_TYPE]};\n",
       "      render(props, toinsert[toinsert.length - 1]);\n",
       "      element.append(toinsert);\n",
       "      return toinsert\n",
       "    }\n",
       "\n",
       "    /* Handle when an output is cleared or removed */\n",
       "    events.on('clear_output.CodeCell', handleClearOutput);\n",
       "    events.on('delete.Cell', handleClearOutput);\n",
       "\n",
       "    /* Handle when a new output is added */\n",
       "    events.on('output_added.OutputArea', handleAddOutput);\n",
       "\n",
       "    /**\n",
       "     * Register the mime type and append_mime function with output_area\n",
       "     */\n",
       "    OutputArea.prototype.register_mime_type(EXEC_MIME_TYPE, append_mime, {\n",
       "      /* Is output safe? */\n",
       "      safe: true,\n",
       "      /* Index of renderer in `output_area.display_order` */\n",
       "      index: 0\n",
       "    });\n",
       "  }\n",
       "\n",
       "  // register the mime type if in Jupyter Notebook environment and previously unregistered\n",
       "  if (root.Jupyter !== undefined) {\n",
       "    var events = require('base/js/events');\n",
       "    var OutputArea = require('notebook/js/outputarea').OutputArea;\n",
       "\n",
       "    if (OutputArea.prototype.mime_types().indexOf(EXEC_MIME_TYPE) == -1) {\n",
       "      register_renderer(events, OutputArea);\n",
       "    }\n",
       "  }\n",
       "\n",
       "  \n",
       "  if (typeof (root._bokeh_timeout) === \"undefined\" || force === true) {\n",
       "    root._bokeh_timeout = Date.now() + 5000;\n",
       "    root._bokeh_failed_load = false;\n",
       "  }\n",
       "\n",
       "  var NB_LOAD_WARNING = {'data': {'text/html':\n",
       "     \"<div style='background-color: #fdd'>\\n\"+\n",
       "     \"<p>\\n\"+\n",
       "     \"BokehJS does not appear to have successfully loaded. If loading BokehJS from CDN, this \\n\"+\n",
       "     \"may be due to a slow or bad network connection. Possible fixes:\\n\"+\n",
       "     \"</p>\\n\"+\n",
       "     \"<ul>\\n\"+\n",
       "     \"<li>re-rerun `output_notebook()` to attempt to load from CDN again, or</li>\\n\"+\n",
       "     \"<li>use INLINE resources instead, as so:</li>\\n\"+\n",
       "     \"</ul>\\n\"+\n",
       "     \"<code>\\n\"+\n",
       "     \"from bokeh.resources import INLINE\\n\"+\n",
       "     \"output_notebook(resources=INLINE)\\n\"+\n",
       "     \"</code>\\n\"+\n",
       "     \"</div>\"}};\n",
       "\n",
       "  function display_loaded() {\n",
       "    var el = document.getElementById(null);\n",
       "    if (el != null) {\n",
       "      el.textContent = \"BokehJS is loading...\";\n",
       "    }\n",
       "    if (root.Bokeh !== undefined) {\n",
       "      if (el != null) {\n",
       "        el.textContent = \"BokehJS \" + root.Bokeh.version + \" successfully loaded.\";\n",
       "      }\n",
       "    } else if (Date.now() < root._bokeh_timeout) {\n",
       "      setTimeout(display_loaded, 100)\n",
       "    }\n",
       "  }\n",
       "\n",
       "\n",
       "  function run_callbacks() {\n",
       "    try {\n",
       "      root._bokeh_onload_callbacks.forEach(function(callback) {\n",
       "        if (callback != null)\n",
       "          callback();\n",
       "      });\n",
       "    } finally {\n",
       "      delete root._bokeh_onload_callbacks\n",
       "    }\n",
       "    console.debug(\"Bokeh: all callbacks have finished\");\n",
       "  }\n",
       "\n",
       "  function load_libs(css_urls, js_urls, callback) {\n",
       "    if (css_urls == null) css_urls = [];\n",
       "    if (js_urls == null) js_urls = [];\n",
       "\n",
       "    root._bokeh_onload_callbacks.push(callback);\n",
       "    if (root._bokeh_is_loading > 0) {\n",
       "      console.debug(\"Bokeh: BokehJS is being loaded, scheduling callback at\", now());\n",
       "      return null;\n",
       "    }\n",
       "    if (js_urls == null || js_urls.length === 0) {\n",
       "      run_callbacks();\n",
       "      return null;\n",
       "    }\n",
       "    console.debug(\"Bokeh: BokehJS not loaded, scheduling load and callback at\", now());\n",
       "    root._bokeh_is_loading = css_urls.length + js_urls.length;\n",
       "\n",
       "    function on_load() {\n",
       "      root._bokeh_is_loading--;\n",
       "      if (root._bokeh_is_loading === 0) {\n",
       "        console.debug(\"Bokeh: all BokehJS libraries/stylesheets loaded\");\n",
       "        run_callbacks()\n",
       "      }\n",
       "    }\n",
       "\n",
       "    function on_error() {\n",
       "      console.error(\"failed to load \" + url);\n",
       "    }\n",
       "\n",
       "    for (var i = 0; i < css_urls.length; i++) {\n",
       "      var url = css_urls[i];\n",
       "      const element = document.createElement(\"link\");\n",
       "      element.onload = on_load;\n",
       "      element.onerror = on_error;\n",
       "      element.rel = \"stylesheet\";\n",
       "      element.type = \"text/css\";\n",
       "      element.href = url;\n",
       "      console.debug(\"Bokeh: injecting link tag for BokehJS stylesheet: \", url);\n",
       "      document.body.appendChild(element);\n",
       "    }\n",
       "\n",
       "    const hashes = {\"https://cdn.bokeh.org/bokeh/release/bokeh-2.2.3.min.js\": \"T2yuo9Oe71Cz/I4X9Ac5+gpEa5a8PpJCDlqKYO0CfAuEszu1JrXLl8YugMqYe3sM\", \"https://cdn.bokeh.org/bokeh/release/bokeh-widgets-2.2.3.min.js\": \"98GDGJ0kOMCUMUePhksaQ/GYgB3+NH9h996V88sh3aOiUNX3N+fLXAtry6xctSZ6\", \"https://cdn.bokeh.org/bokeh/release/bokeh-tables-2.2.3.min.js\": \"89bArO+nlbP3sgakeHjCo1JYxYR5wufVgA3IbUvDY+K7w4zyxJqssu7wVnfeKCq8\"};\n",
       "\n",
       "    for (var i = 0; i < js_urls.length; i++) {\n",
       "      var url = js_urls[i];\n",
       "      var element = document.createElement('script');\n",
       "      element.onload = on_load;\n",
       "      element.onerror = on_error;\n",
       "      element.async = false;\n",
       "      element.src = url;\n",
       "      if (url in hashes) {\n",
       "        element.crossOrigin = \"anonymous\";\n",
       "        element.integrity = \"sha384-\" + hashes[url];\n",
       "      }\n",
       "      console.debug(\"Bokeh: injecting script tag for BokehJS library: \", url);\n",
       "      document.head.appendChild(element);\n",
       "    }\n",
       "  };\n",
       "\n",
       "  function inject_raw_css(css) {\n",
       "    const element = document.createElement(\"style\");\n",
       "    element.appendChild(document.createTextNode(css));\n",
       "    document.body.appendChild(element);\n",
       "  }\n",
       "\n",
       "  \n",
       "  var js_urls = [\"https://cdn.bokeh.org/bokeh/release/bokeh-2.2.3.min.js\", \"https://cdn.bokeh.org/bokeh/release/bokeh-widgets-2.2.3.min.js\", \"https://cdn.bokeh.org/bokeh/release/bokeh-tables-2.2.3.min.js\"];\n",
       "  var css_urls = [];\n",
       "  \n",
       "\n",
       "  var inline_js = [\n",
       "    function(Bokeh) {\n",
       "      Bokeh.set_log_level(\"info\");\n",
       "    },\n",
       "    function(Bokeh) {\n",
       "    \n",
       "    \n",
       "    }\n",
       "  ];\n",
       "\n",
       "  function run_inline_js() {\n",
       "    \n",
       "    if (root.Bokeh !== undefined || force === true) {\n",
       "      \n",
       "    for (var i = 0; i < inline_js.length; i++) {\n",
       "      inline_js[i].call(root, root.Bokeh);\n",
       "    }\n",
       "    } else if (Date.now() < root._bokeh_timeout) {\n",
       "      setTimeout(run_inline_js, 100);\n",
       "    } else if (!root._bokeh_failed_load) {\n",
       "      console.log(\"Bokeh: BokehJS failed to load within specified timeout.\");\n",
       "      root._bokeh_failed_load = true;\n",
       "    } else if (force !== true) {\n",
       "      var cell = $(document.getElementById(null)).parents('.cell').data().cell;\n",
       "      cell.output_area.append_execute_result(NB_LOAD_WARNING)\n",
       "    }\n",
       "\n",
       "  }\n",
       "\n",
       "  if (root._bokeh_is_loading === 0) {\n",
       "    console.debug(\"Bokeh: BokehJS loaded, going straight to plotting\");\n",
       "    run_inline_js();\n",
       "  } else {\n",
       "    load_libs(css_urls, js_urls, function() {\n",
       "      console.debug(\"Bokeh: BokehJS plotting callback run at\", now());\n",
       "      run_inline_js();\n",
       "    });\n",
       "  }\n",
       "}(window));"
      ],
      "application/vnd.bokehjs_load.v0+json": "\n(function(root) {\n  function now() {\n    return new Date();\n  }\n\n  var force = true;\n\n  if (typeof root._bokeh_onload_callbacks === \"undefined\" || force === true) {\n    root._bokeh_onload_callbacks = [];\n    root._bokeh_is_loading = undefined;\n  }\n\n  \n\n  \n  if (typeof (root._bokeh_timeout) === \"undefined\" || force === true) {\n    root._bokeh_timeout = Date.now() + 5000;\n    root._bokeh_failed_load = false;\n  }\n\n  var NB_LOAD_WARNING = {'data': {'text/html':\n     \"<div style='background-color: #fdd'>\\n\"+\n     \"<p>\\n\"+\n     \"BokehJS does not appear to have successfully loaded. If loading BokehJS from CDN, this \\n\"+\n     \"may be due to a slow or bad network connection. Possible fixes:\\n\"+\n     \"</p>\\n\"+\n     \"<ul>\\n\"+\n     \"<li>re-rerun `output_notebook()` to attempt to load from CDN again, or</li>\\n\"+\n     \"<li>use INLINE resources instead, as so:</li>\\n\"+\n     \"</ul>\\n\"+\n     \"<code>\\n\"+\n     \"from bokeh.resources import INLINE\\n\"+\n     \"output_notebook(resources=INLINE)\\n\"+\n     \"</code>\\n\"+\n     \"</div>\"}};\n\n  function display_loaded() {\n    var el = document.getElementById(null);\n    if (el != null) {\n      el.textContent = \"BokehJS is loading...\";\n    }\n    if (root.Bokeh !== undefined) {\n      if (el != null) {\n        el.textContent = \"BokehJS \" + root.Bokeh.version + \" successfully loaded.\";\n      }\n    } else if (Date.now() < root._bokeh_timeout) {\n      setTimeout(display_loaded, 100)\n    }\n  }\n\n\n  function run_callbacks() {\n    try {\n      root._bokeh_onload_callbacks.forEach(function(callback) {\n        if (callback != null)\n          callback();\n      });\n    } finally {\n      delete root._bokeh_onload_callbacks\n    }\n    console.debug(\"Bokeh: all callbacks have finished\");\n  }\n\n  function load_libs(css_urls, js_urls, callback) {\n    if (css_urls == null) css_urls = [];\n    if (js_urls == null) js_urls = [];\n\n    root._bokeh_onload_callbacks.push(callback);\n    if (root._bokeh_is_loading > 0) {\n      console.debug(\"Bokeh: BokehJS is being loaded, scheduling callback at\", now());\n      return null;\n    }\n    if (js_urls == null || js_urls.length === 0) {\n      run_callbacks();\n      return null;\n    }\n    console.debug(\"Bokeh: BokehJS not loaded, scheduling load and callback at\", now());\n    root._bokeh_is_loading = css_urls.length + js_urls.length;\n\n    function on_load() {\n      root._bokeh_is_loading--;\n      if (root._bokeh_is_loading === 0) {\n        console.debug(\"Bokeh: all BokehJS libraries/stylesheets loaded\");\n        run_callbacks()\n      }\n    }\n\n    function on_error() {\n      console.error(\"failed to load \" + url);\n    }\n\n    for (var i = 0; i < css_urls.length; i++) {\n      var url = css_urls[i];\n      const element = document.createElement(\"link\");\n      element.onload = on_load;\n      element.onerror = on_error;\n      element.rel = \"stylesheet\";\n      element.type = \"text/css\";\n      element.href = url;\n      console.debug(\"Bokeh: injecting link tag for BokehJS stylesheet: \", url);\n      document.body.appendChild(element);\n    }\n\n    const hashes = {\"https://cdn.bokeh.org/bokeh/release/bokeh-2.2.3.min.js\": \"T2yuo9Oe71Cz/I4X9Ac5+gpEa5a8PpJCDlqKYO0CfAuEszu1JrXLl8YugMqYe3sM\", \"https://cdn.bokeh.org/bokeh/release/bokeh-widgets-2.2.3.min.js\": \"98GDGJ0kOMCUMUePhksaQ/GYgB3+NH9h996V88sh3aOiUNX3N+fLXAtry6xctSZ6\", \"https://cdn.bokeh.org/bokeh/release/bokeh-tables-2.2.3.min.js\": \"89bArO+nlbP3sgakeHjCo1JYxYR5wufVgA3IbUvDY+K7w4zyxJqssu7wVnfeKCq8\"};\n\n    for (var i = 0; i < js_urls.length; i++) {\n      var url = js_urls[i];\n      var element = document.createElement('script');\n      element.onload = on_load;\n      element.onerror = on_error;\n      element.async = false;\n      element.src = url;\n      if (url in hashes) {\n        element.crossOrigin = \"anonymous\";\n        element.integrity = \"sha384-\" + hashes[url];\n      }\n      console.debug(\"Bokeh: injecting script tag for BokehJS library: \", url);\n      document.head.appendChild(element);\n    }\n  };\n\n  function inject_raw_css(css) {\n    const element = document.createElement(\"style\");\n    element.appendChild(document.createTextNode(css));\n    document.body.appendChild(element);\n  }\n\n  \n  var js_urls = [\"https://cdn.bokeh.org/bokeh/release/bokeh-2.2.3.min.js\", \"https://cdn.bokeh.org/bokeh/release/bokeh-widgets-2.2.3.min.js\", \"https://cdn.bokeh.org/bokeh/release/bokeh-tables-2.2.3.min.js\"];\n  var css_urls = [];\n  \n\n  var inline_js = [\n    function(Bokeh) {\n      Bokeh.set_log_level(\"info\");\n    },\n    function(Bokeh) {\n    \n    \n    }\n  ];\n\n  function run_inline_js() {\n    \n    if (root.Bokeh !== undefined || force === true) {\n      \n    for (var i = 0; i < inline_js.length; i++) {\n      inline_js[i].call(root, root.Bokeh);\n    }\n    } else if (Date.now() < root._bokeh_timeout) {\n      setTimeout(run_inline_js, 100);\n    } else if (!root._bokeh_failed_load) {\n      console.log(\"Bokeh: BokehJS failed to load within specified timeout.\");\n      root._bokeh_failed_load = true;\n    } else if (force !== true) {\n      var cell = $(document.getElementById(null)).parents('.cell').data().cell;\n      cell.output_area.append_execute_result(NB_LOAD_WARNING)\n    }\n\n  }\n\n  if (root._bokeh_is_loading === 0) {\n    console.debug(\"Bokeh: BokehJS loaded, going straight to plotting\");\n    run_inline_js();\n  } else {\n    load_libs(css_urls, js_urls, function() {\n      console.debug(\"Bokeh: BokehJS plotting callback run at\", now());\n      run_inline_js();\n    });\n  }\n}(window));"
     },
     "metadata": {},
     "output_type": "display_data"
    }
   ],
   "source": [
    "import scipy.io\n",
    "import numpy as np\n",
    "from numpy import ptp, zeros, mean\n",
    "import biosignalsnotebooks as bsnb\n",
    "from math import log10\n",
    "import matplotlib.pyplot as plt\n",
    "from scipy import interpolate\n",
    "from math import log"
   ]
  },
  {
   "cell_type": "markdown",
   "id": "alleged-impression",
   "metadata": {},
   "source": [
    "Cargamos las señales"
   ]
  },
  {
   "cell_type": "code",
   "execution_count": 9,
   "id": "worthy-variety",
   "metadata": {},
   "outputs": [
    {
     "name": "stdout",
     "output_type": "stream",
     "text": [
      "<class 'numpy.ndarray'>\n"
     ]
    }
   ],
   "source": [
    "limpio = scipy.io.loadmat('ecg_limpio.mat')['ecg_limpio'].reshape(245000)\n",
    "snr1 = scipy.io.loadmat('ECG_snr1.mat')['ECG_snr1'].reshape(245000)\n",
    "snr2 = scipy.io.loadmat('ECG_snr2.mat')['ECG_snr2'].reshape(245000)\n",
    "snr3 = scipy.io.loadmat('ECG_snr3.mat')['ECG_snr3'].reshape(245000)\n",
    "snr4 = scipy.io.loadmat('ECG_snr4.mat')['ECG_snr4'].reshape(245000)"
   ]
  },
  {
   "cell_type": "markdown",
   "id": "stunning-shuttle",
   "metadata": {},
   "source": [
    "Conseguimos las amplitudes de pico a pico"
   ]
  },
  {
   "cell_type": "code",
   "execution_count": 4,
   "id": "invisible-wyoming",
   "metadata": {},
   "outputs": [],
   "source": [
    "vpp_limpio= ptp(limpio)\n",
    "vpp_snr1=ptp(snr1)\n",
    "vpp_snr2=ptp(snr2)\n",
    "vpp_snr3=ptp(snr3)\n",
    "vpp_snr4=ptp(snr4)"
   ]
  },
  {
   "cell_type": "markdown",
   "id": "occasional-expert",
   "metadata": {},
   "source": [
    "Buscamos los picos R"
   ]
  },
  {
   "cell_type": "code",
   "execution_count": 5,
   "id": "weighted-flooring",
   "metadata": {},
   "outputs": [],
   "source": [
    "sampling_rate = 1000\n",
    "time_r_peaks_limpio, amplitude_r_peaks_limpio = bsnb.detect_r_peaks(limpio, sampling_rate, time_units=True, plot_result=False)\n",
    "time_r_peaks_snr1, amplitude_r_peaks_snr1 = bsnb.detect_r_peaks(snr1, sampling_rate, time_units=True, plot_result=False)\n",
    "time_r_peaks_snr2, amplitude_r_peaks_snr2 = bsnb.detect_r_peaks(snr2, sampling_rate, time_units=True, plot_result=False)\n",
    "time_r_peaks_snr3, amplitude_r_peaks_snr3 = bsnb.detect_r_peaks(snr3, sampling_rate, time_units=True, plot_result=False)\n",
    "time_r_peaks_snr4, amplitude_r_peaks_snr4 = bsnb.detect_r_peaks(snr4, sampling_rate, time_units=True, plot_result=False)"
   ]
  },
  {
   "cell_type": "code",
   "execution_count": 6,
   "id": "expired-going",
   "metadata": {},
   "outputs": [
    {
     "data": {
      "text/plain": [
       "[<matplotlib.lines.Line2D at 0x7f96af1e8be0>]"
      ]
     },
     "execution_count": 6,
     "metadata": {},
     "output_type": "execute_result"
    },
    {
     "data": {
      "image/png": "[encoded data removed]",
      "text/plain": [
       "<Figure size 432x288 with 1 Axes>"
      ]
     },
     "metadata": {
      "needs_background": "light"
     },
     "output_type": "display_data"
    }
   ],
   "source": [
    "plt.plot(limpio[0:1000])"
   ]
  },
  {
   "cell_type": "markdown",
   "id": "heavy-barrel",
   "metadata": {},
   "source": [
    "Conseguimos la amplitud del ruido a partir del intervalo entre cada latido. El razonamiento es que mientras más limpia está la señal, la amplitud en este segmento es menor mientras menos sea el ruido"
   ]
  },
  {
   "cell_type": "code",
   "execution_count": 90,
   "id": "unique-storage",
   "metadata": {},
   "outputs": [],
   "source": [
    "vpp_noise_limpio = []\n",
    "\n",
    "for t in time_r_peaks_limpio:\n",
    "    start = int((t + 0.37) * sampling_rate)\n",
    "    end = int((t + 0.45)* sampling_rate) \n",
    "    interval = limpio[start:end]\n",
    "    vpp = ptp(interval)\n",
    "    vpp_noise_limpio.append(vpp)\n",
    "    \n",
    "vpp_noise_limpio_mean = mean(vpp_noise_limpio)\n",
    "\n",
    "\n",
    "vpp_noise_snr1 = []\n",
    "\n",
    "for t in time_r_peaks_snr1:\n",
    "    start = int((t + 0.37) * sampling_rate)\n",
    "    end = int((t + 0.45)* sampling_rate)\n",
    "    interval = snr1[start:end]\n",
    "    vpp = ptp(interval)\n",
    "    vpp_noise_snr1.append(vpp)\n",
    "    \n",
    "vpp_noise_snr1_mean = mean(vpp_noise_snr1)\n",
    "\n",
    "\n",
    "vpp_noise_snr2 = []\n",
    "\n",
    "for t in time_r_peaks_snr2:\n",
    "    start = int((t + 0.25) * sampling_rate)\n",
    "    end = int((t + 0.50)* sampling_rate)\n",
    "    interval = snr2[start:end]\n",
    "    vpp = ptp(interval)\n",
    "    vpp_noise_snr2.append(vpp)\n",
    "    \n",
    "vpp_noise_snr2_mean = mean(vpp_noise_snr2)\n",
    "\n",
    "\n",
    "vpp_noise_snr3 = []\n",
    "\n",
    "for t in time_r_peaks_snr3:\n",
    "    start = int((t + 0.15) * sampling_rate)\n",
    "    end = int((t + 0.55)* sampling_rate)\n",
    "    interval = snr3[start:end]\n",
    "    vpp = ptp(interval)\n",
    "    vpp_noise_snr3.append(vpp)\n",
    "    \n",
    "vpp_noise_snr3_mean = mean(vpp_noise_snr3)\n",
    "\n",
    "\n",
    "vpp_noise_snr4 = []\n",
    "\n",
    "for t in time_r_peaks_snr4:\n",
    "    start = int((t + 0.10) * sampling_rate)\n",
    "    end = int((t + 0.567)* sampling_rate)\n",
    "    interval = snr4[start:end]\n",
    "    vpp = ptp(interval)\n",
    "    vpp_noise_snr4.append(vpp)\n",
    "    \n",
    "vpp_noise_snr4_mean = mean(vpp_noise_snr4)"
   ]
  },
  {
   "cell_type": "markdown",
   "id": "synthetic-parallel",
   "metadata": {},
   "source": [
    "La amplitud de los ruidos"
   ]
  },
  {
   "cell_type": "markdown",
   "id": "external-geography",
   "metadata": {},
   "source": [
    "Calculamos el SNR"
   ]
  },
  {
   "cell_type": "code",
   "execution_count": 91,
   "id": "declared-bidder",
   "metadata": {},
   "outputs": [],
   "source": [
    "snr_ecg_db_limpio = 20 * log10(vpp_limpio/vpp_noise_limpio_mean)\n",
    "snr_ecg_db_snr1 = 20 * log10(vpp_snr1/vpp_noise_snr1_mean)\n",
    "snr_ecg_db_snr2 = 20 * log10(vpp_snr2/vpp_noise_snr2_mean)\n",
    "snr_ecg_db_snr3 = 20 * log10(vpp_snr3/vpp_noise_snr3_mean)\n",
    "snr_ecg_db_snr4 = 20 * log10(vpp_snr4/vpp_noise_snr4_mean)"
   ]
  },
  {
   "cell_type": "code",
   "execution_count": 92,
   "id": "forward-status",
   "metadata": {},
   "outputs": [
    {
     "name": "stdout",
     "output_type": "stream",
     "text": [
      "SNR para la señal limpio: 21.15337876895188 dB\n",
      "SNR para la señal snr1: 19.915218914247983 dB\n",
      "SNR para la señal snr2: 16.451833355623236 dB\n",
      "SNR para la señal snr3: 9.884029238121453 dB\n",
      "SNR para la señal snr4: 5.520353042560517 dB\n"
     ]
    }
   ],
   "source": [
    "print(\"SNR para la señal limpio: {} dB\".format(snr_ecg_db_limpio))\n",
    "print(\"SNR para la señal snr1: {} dB\".format(snr_ecg_db_snr1))\n",
    "print(\"SNR para la señal snr2: {} dB\".format(snr_ecg_db_snr2))\n",
    "print(\"SNR para la señal snr3: {} dB\".format(snr_ecg_db_snr3))\n",
    "print(\"SNR para la señal snr4: {} dB\".format(snr_ecg_db_snr4))"
   ]
  },
  {
   "cell_type": "markdown",
   "id": "removable-devil",
   "metadata": {},
   "source": [
    "De acuerdo a [2]. Un SNR mayor a 0 representa que hay más señal que ruido. Además, un SNR superior a 10dB en la señal de ECG permite reconocer arritmias cardíacas con más de 96% de precisión "
   ]
  },
  {
   "cell_type": "markdown",
   "id": "alike-terminal",
   "metadata": {},
   "source": [
    "2. Graficas de SNR en el tiempo"
   ]
  },
  {
   "cell_type": "code",
   "execution_count": 93,
   "id": "literary-dictionary",
   "metadata": {},
   "outputs": [],
   "source": [
    "vpp_limpio_array = []\n",
    "\n",
    "for t in time_r_peaks_limpio:\n",
    "    start = int((t) * sampling_rate)\n",
    "    end = int((t+0.2)* sampling_rate) \n",
    "    interval = limpio[start:end]\n",
    "    vpp = ptp(interval)\n",
    "    vpp_limpio_array.append(vpp)\n",
    "\n",
    "    \n",
    "vpp_snr1_array = []\n",
    "\n",
    "for t in time_r_peaks_snr1:\n",
    "    start = int((t) * sampling_rate)\n",
    "    end = int((t+0.2)* sampling_rate) \n",
    "    interval = snr1[start:end]\n",
    "    vpp = ptp(interval)\n",
    "    vpp_snr1_array.append(vpp)\n",
    "    \n",
    "    \n",
    "vpp_snr2_array = []\n",
    "\n",
    "for t in time_r_peaks_snr2:\n",
    "    start = int((t) * sampling_rate)\n",
    "    end = int((t+0.2)* sampling_rate) \n",
    "    interval = snr2[start:end]\n",
    "    vpp = ptp(interval)\n",
    "    vpp_snr2_array.append(vpp)\n",
    "\n",
    "\n",
    "vpp_snr3_array = []\n",
    "\n",
    "for t in time_r_peaks_snr3:\n",
    "    start = int((t) * sampling_rate)\n",
    "    end = int((t+0.2)* sampling_rate) \n",
    "    interval = snr3[start:end]\n",
    "    vpp = ptp(interval)\n",
    "    vpp_snr3_array.append(vpp)\n",
    "    \n",
    "    \n",
    "vpp_snr4_array = []\n",
    "\n",
    "for t in time_r_peaks_snr4:\n",
    "    start = int((t) * sampling_rate)\n",
    "    end = int((t+0.2)* sampling_rate) \n",
    "    interval = snr4[start:end]\n",
    "    vpp = ptp(interval)\n",
    "    vpp_snr4_array.append(vpp)"
   ]
  },
  {
   "cell_type": "code",
   "execution_count": 94,
   "id": "interior-understanding",
   "metadata": {},
   "outputs": [],
   "source": [
    "snr_ecg_db_limpio_array = ([20 * log10(i / j) for i, j in zip(vpp_limpio_array, vpp_noise_limpio)])\n",
    "snr_ecg_db_snr1_array = ([20 * log10(i / j) for i, j in zip(vpp_snr1_array, vpp_noise_snr1)])\n",
    "snr_ecg_db_snr2_array = ([20 * log10(i / j) for i, j in zip(vpp_snr2_array, vpp_noise_snr2)])\n",
    "snr_ecg_db_snr3_array = ([20 * log10(i / j) for i, j in zip(vpp_snr3_array, vpp_noise_snr3)])\n",
    "snr_ecg_db_snr4_array = ([20 * log10(i / j) for i, j in zip(vpp_snr4_array, vpp_noise_snr4)])"
   ]
  },
  {
   "cell_type": "code",
   "execution_count": 133,
   "id": "criminal-fetish",
   "metadata": {},
   "outputs": [],
   "source": [
    "snr_limpio_mean_array = [snr_ecg_db_limpio_array[0]]\n",
    "for i in range(1,len(snr_ecg_db_limpio_array)):\n",
    "    snr_limpio_mean_array.append(mean(snr_ecg_db_limpio_array[0:i]))\n",
    "    \n",
    "snr_snr1_mean_array = [snr_ecg_db_snr1_array[0]]\n",
    "for i in range(1,len(snr_ecg_db_snr1_array)):\n",
    "    snr_snr1_mean_array.append(mean(snr_ecg_db_snr1_array[0:i]))\n",
    "    \n",
    "snr_snr2_mean_array = [snr_ecg_db_snr2_array[0]]\n",
    "for i in range(1,len(snr_ecg_db_snr2_array)):\n",
    "    snr_snr2_mean_array.append(mean(snr_ecg_db_snr2_array[0:i]))\n",
    "    \n",
    "snr_snr3_mean_array = [snr_ecg_db_snr3_array[0]]\n",
    "for i in range(1,len(snr_ecg_db_snr3_array)):\n",
    "    snr_snr3_mean_array.append(mean(snr_ecg_db_snr3_array[0:i]))\n",
    "    \n",
    "snr_snr4_mean_array = [snr_ecg_db_snr4_array[0]]\n",
    "for i in range(1,len(snr_ecg_db_snr4_array)):\n",
    "    snr_snr4_mean_array.append(mean(snr_ecg_db_snr4_array[0:i]))"
   ]
  },
  {
   "cell_type": "markdown",
   "id": "viral-target",
   "metadata": {},
   "source": [
    "SNR en relación a las épocas"
   ]
  },
  {
   "cell_type": "code",
   "execution_count": 45,
   "id": "moral-reality",
   "metadata": {},
   "outputs": [
    {
     "data": {
      "text/plain": [
       "Text(0.5, 1.0, 'limpio')"
      ]
     },
     "execution_count": 45,
     "metadata": {},
     "output_type": "execute_result"
    },
    {
     "data": {
      "image/png": "[encoded data removed]",
      "text/plain": [
       "<Figure size 432x288 with 1 Axes>"
      ]
     },
     "metadata": {
      "needs_background": "light"
     },
     "output_type": "display_data"
    }
   ],
   "source": [
    "plt.plot(snr_limpio_mean_array)\n",
    "plt.ylabel('dB')\n",
    "plt.xlabel('epochs')\n",
    "plt.title('limpio')"
   ]
  },
  {
   "cell_type": "code",
   "execution_count": 183,
   "id": "inclusive-plant",
   "metadata": {},
   "outputs": [
    {
     "data": {
      "text/plain": [
       "Text(0.5, 1.0, 'SNR1')"
      ]
     },
     "execution_count": 183,
     "metadata": {},
     "output_type": "execute_result"
    },
    {
     "data": {
      "image/png": "[encoded data removed]",
      "text/plain": [
       "<Figure size 432x288 with 1 Axes>"
      ]
     },
     "metadata": {
      "needs_background": "light"
     },
     "output_type": "display_data"
    }
   ],
   "source": [
    "plt.plot(snr_snr1_mean_array[136:142])\n",
    "plt.ylabel('dB')\n",
    "plt.xlabel('epochs')\n",
    "plt.title('SNR1')"
   ]
  },
  {
   "cell_type": "code",
   "execution_count": 202,
   "id": "numeric-monroe",
   "metadata": {},
   "outputs": [
    {
     "data": {
      "text/plain": [
       "Text(0.5, 1.0, 'SNR2')"
      ]
     },
     "execution_count": 202,
     "metadata": {},
     "output_type": "execute_result"
    },
    {
     "data": {
      "image/png": "[encoded data removed]",
      "text/plain": [
       "<Figure size 432x288 with 1 Axes>"
      ]
     },
     "metadata": {
      "needs_background": "light"
     },
     "output_type": "display_data"
    }
   ],
   "source": [
    "plt.plot(snr_snr2_mean_array[126:132])\n",
    "plt.ylabel('dB')\n",
    "plt.xlabel('epochs')\n",
    "plt.title('SNR2')"
   ]
  },
  {
   "cell_type": "code",
   "execution_count": 205,
   "id": "interim-monday",
   "metadata": {},
   "outputs": [
    {
     "data": {
      "text/plain": [
       "Text(0.5, 1.0, 'SNR3')"
      ]
     },
     "execution_count": 205,
     "metadata": {},
     "output_type": "execute_result"
    },
    {
     "data": {
      "image/png": "[encoded data removed]",
      "text/plain": [
       "<Figure size 432x288 with 1 Axes>"
      ]
     },
     "metadata": {
      "needs_background": "light"
     },
     "output_type": "display_data"
    }
   ],
   "source": [
    "plt.plot(snr_snr3_mean_array[173:178])\n",
    "plt.ylabel('dB')\n",
    "plt.xlabel('epochs')\n",
    "plt.title('SNR3')"
   ]
  },
  {
   "cell_type": "code",
   "execution_count": 195,
   "id": "particular-strand",
   "metadata": {},
   "outputs": [
    {
     "data": {
      "text/plain": [
       "Text(0.5, 1.0, 'SNR4')"
      ]
     },
     "execution_count": 195,
     "metadata": {},
     "output_type": "execute_result"
    },
    {
     "data": {
      "image/png": "[encoded data removed]",
      "text/plain": [
       "<Figure size 432x288 with 1 Axes>"
      ]
     },
     "metadata": {
      "needs_background": "light"
     },
     "output_type": "display_data"
    }
   ],
   "source": [
    "plt.plot(snr_snr4_mean_array[370:385])\n",
    "plt.ylabel('dB')\n",
    "plt.xlabel('epochs')\n",
    "plt.title('SNR4')"
   ]
  },
  {
   "cell_type": "markdown",
   "id": "final-trial",
   "metadata": {},
   "source": [
    "Como se ve en las gráficas, el SRN tiende a subir con las épicas. No de una manera uniforme pero esto se puede deber a imperfecciones en el cálculo de la amplitud del ruido"
   ]
  },
  {
   "cell_type": "markdown",
   "id": "unavailable-hindu",
   "metadata": {},
   "source": [
    "3. Graficar el latido promedio"
   ]
  },
  {
   "cell_type": "code",
   "execution_count": 51,
   "id": "consecutive-camel",
   "metadata": {},
   "outputs": [
    {
     "data": {
      "text/plain": [
       "[<matplotlib.lines.Line2D at 0x7f96ac953e20>]"
      ]
     },
     "execution_count": 51,
     "metadata": {},
     "output_type": "execute_result"
    },
    {
     "data": {
      "image/png": "[encoded data removed]",
      "text/plain": [
       "<Figure size 432x288 with 1 Axes>"
      ]
     },
     "metadata": {
      "needs_background": "light"
     },
     "output_type": "display_data"
    }
   ],
   "source": [
    "plt.plot(limpio[0:2000])"
   ]
  },
  {
   "cell_type": "code",
   "execution_count": 50,
   "id": "communist-sculpture",
   "metadata": {},
   "outputs": [
    {
     "data": {
      "text/plain": [
       "[<matplotlib.lines.Line2D at 0x7f96ac97f790>]"
      ]
     },
     "execution_count": 50,
     "metadata": {},
     "output_type": "execute_result"
    },
    {
     "data": {
      "image/png": "[encoded data removed]",
      "text/plain": [
       "<Figure size 432x288 with 1 Axes>"
      ]
     },
     "metadata": {
      "needs_background": "light"
     },
     "output_type": "display_data"
    }
   ],
   "source": [
    "plt.plot(snr1[0:2000])"
   ]
  },
  {
   "cell_type": "code",
   "execution_count": 52,
   "id": "happy-holder",
   "metadata": {},
   "outputs": [
    {
     "data": {
      "text/plain": [
       "[<matplotlib.lines.Line2D at 0x7f96ac935490>]"
      ]
     },
     "execution_count": 52,
     "metadata": {},
     "output_type": "execute_result"
    },
    {
     "data": {
      "image/png": "[encoded data removed]",
      "text/plain": [
       "<Figure size 432x288 with 1 Axes>"
      ]
     },
     "metadata": {
      "needs_background": "light"
     },
     "output_type": "display_data"
    }
   ],
   "source": [
    "plt.plot(snr2[0:2000])"
   ]
  },
  {
   "cell_type": "code",
   "execution_count": 53,
   "id": "fitting-cameroon",
   "metadata": {},
   "outputs": [
    {
     "data": {
      "text/plain": [
       "[<matplotlib.lines.Line2D at 0x7f96ac888fd0>]"
      ]
     },
     "execution_count": 53,
     "metadata": {},
     "output_type": "execute_result"
    },
    {
     "data": {
      "image/png": "[encoded data removed]",
      "text/plain": [
       "<Figure size 432x288 with 1 Axes>"
      ]
     },
     "metadata": {
      "needs_background": "light"
     },
     "output_type": "display_data"
    }
   ],
   "source": [
    "plt.plot(snr3[0:2000])"
   ]
  },
  {
   "cell_type": "code",
   "execution_count": 54,
   "id": "latin-andrews",
   "metadata": {},
   "outputs": [
    {
     "data": {
      "text/plain": [
       "[<matplotlib.lines.Line2D at 0x7f96ac866b80>]"
      ]
     },
     "execution_count": 54,
     "metadata": {},
     "output_type": "execute_result"
    },
    {
     "data": {
      "image/png": "[encoded data removed]",
      "text/plain": [
       "<Figure size 432x288 with 1 Axes>"
      ]
     },
     "metadata": {
      "needs_background": "light"
     },
     "output_type": "display_data"
    }
   ],
   "source": [
    "plt.plot(snr4[0:2000])"
   ]
  },
  {
   "cell_type": "markdown",
   "id": "undefined-northern",
   "metadata": {},
   "source": [
    "En general, como se comentaba más arriba en los resultados de los SNR promediados. En ninguno de los casos se deja de identificar los distintos segmentos del ECG y ya que inclusive SNR4 tiene un SNR por encima de 10, un experto podría identificar distintas situaciones como arritmias sin mayores problemas."
   ]
  },
  {
   "cell_type": "markdown",
   "id": "consolidated-canon",
   "metadata": {},
   "source": [
    "## Ejercicio 2"
   ]
  },
  {
   "cell_type": "code",
   "execution_count": 10,
   "id": "traditional-aircraft",
   "metadata": {},
   "outputs": [],
   "source": [
    "ECG59  = np.genfromtxt('ECG59.csv', delimiter=',')\n",
    "ECG2039 = np.genfromtxt('ECG2039.csv', delimiter=',')"
   ]
  },
  {
   "cell_type": "code",
   "execution_count": 16,
   "id": "scientific-healing",
   "metadata": {},
   "outputs": [
    {
     "data": {
      "text/plain": [
       "[<matplotlib.lines.Line2D at 0x7f5a4380a4c0>]"
      ]
     },
     "execution_count": 16,
     "metadata": {},
     "output_type": "execute_result"
    },
    {
     "data": {
      "image/png": "[encoded data removed]",
      "text/plain": [
       "<Figure size 432x288 with 1 Axes>"
      ]
     },
     "metadata": {
      "needs_background": "light"
     },
     "output_type": "display_data"
    }
   ],
   "source": [
    "plt.plot(ECG59[0][0:1000])"
   ]
  },
  {
   "cell_type": "code",
   "execution_count": 17,
   "id": "dress-bangkok",
   "metadata": {},
   "outputs": [
    {
     "data": {
      "text/plain": [
       "[<matplotlib.lines.Line2D at 0x7f5a323ddb50>]"
      ]
     },
     "execution_count": 17,
     "metadata": {},
     "output_type": "execute_result"
    },
    {
     "data": {
      "image/png": "[encoded data removed]",
      "text/plain": [
       "<Figure size 432x288 with 1 Axes>"
      ]
     },
     "metadata": {
      "needs_background": "light"
     },
     "output_type": "display_data"
    }
   ],
   "source": [
    "plt.plot(ECG2039[0][0:1000])"
   ]
  },
  {
   "cell_type": "code",
   "execution_count": 20,
   "id": "sixth-michigan",
   "metadata": {},
   "outputs": [],
   "source": [
    "sampling_rate = 400\n",
    "time_r_peaks_ECG59, amplitude_r_peaks_ECG59 = bsnb.detect_r_peaks(ECG59[0], sampling_rate, time_units=True, plot_result=False)\n",
    "time_r_peaks_ECG2039, amplitude_r_peaks_ECG2039 = bsnb.detect_r_peaks(ECG2039[0], sampling_rate, time_units=True, plot_result=False)\n",
    "vpp_ECG59= ptp(ECG59[0])\n",
    "vpp_ECG2039=ptp(ECG2039[0])"
   ]
  },
  {
   "cell_type": "code",
   "execution_count": 37,
   "id": "superb-debate",
   "metadata": {},
   "outputs": [],
   "source": [
    "vpp_noise_ECG59 = []\n",
    "\n",
    "for t in time_r_peaks_ECG59:\n",
    "    start = int((t + 0.10) * sampling_rate)\n",
    "    end = int((t + 0.30)* sampling_rate) \n",
    "    interval = ECG59[0][start:end]\n",
    "    vpp = ptp(interval)\n",
    "    vpp_noise_ECG59.append(vpp)\n",
    "    \n",
    "vpp_noise_ECG59_mean = mean(vpp_noise_ECG59)\n",
    "\n",
    "\n",
    "vpp_noise_ECG2039 = []\n",
    "\n",
    "for t in time_r_peaks_ECG2039:\n",
    "    start = int((t + 0.10) * sampling_rate)\n",
    "    end = int((t + 0.30)* sampling_rate)\n",
    "    interval = ECG2039[0][start:end]\n",
    "    vpp = ptp(interval)\n",
    "    vpp_noise_ECG2039.append(vpp)\n",
    "    \n",
    "vpp_noise_ECG2039_mean = mean(vpp_noise_ECG2039)\n"
   ]
  },
  {
   "cell_type": "code",
   "execution_count": 38,
   "id": "smart-vulnerability",
   "metadata": {},
   "outputs": [],
   "source": [
    "snr_ecg_db_ECG59 = 20 * log10(vpp_ECG59/vpp_noise_ECG59_mean)\n",
    "snr_ecg_db_ECG2039 = 20 * log10(vpp_ECG2039/vpp_noise_ECG2039_mean)"
   ]
  },
  {
   "cell_type": "code",
   "execution_count": 39,
   "id": "considerable-rugby",
   "metadata": {},
   "outputs": [
    {
     "name": "stdout",
     "output_type": "stream",
     "text": [
      "SNR para ECG59 25.06973133977114\n",
      "SNR para ECG2039 20.075068908934668\n"
     ]
    }
   ],
   "source": [
    "print('SNR para ECG59', snr_ecg_db_ECG59)\n",
    "print('SNR para ECG2039', snr_ecg_db_ECG2039)"
   ]
  },
  {
   "cell_type": "markdown",
   "id": "registered-designation",
   "metadata": {},
   "source": [
    "ECG59 es la señal que tiene mejor SNR."
   ]
  },
  {
   "cell_type": "code",
   "execution_count": 48,
   "id": "monthly-effect",
   "metadata": {},
   "outputs": [],
   "source": [
    "vrmsECG59 = 0.353*vpp_ECG59"
   ]
  },
  {
   "cell_type": "markdown",
   "id": "conservative-smoke",
   "metadata": {},
   "source": [
    "### Agregando ruido blanco = rms"
   ]
  },
  {
   "cell_type": "code",
   "execution_count": 75,
   "id": "extensive-basketball",
   "metadata": {},
   "outputs": [
    {
     "name": "stdout",
     "output_type": "stream",
     "text": [
      "SNR with noise = rms 5.783876893893732\n"
     ]
    }
   ],
   "source": [
    "noise_1 = np.random.normal(0, vrmsECG59, len(ECG59[0]))\n",
    "noise_signal_1 = ECG59[0] + noise_1\n",
    "time_r_peaks_noise_1, amplitude_r_peaks_noise_1 = bsnb.detect_r_peaks(noise_signal_1, sampling_rate, time_units=True, plot_result=False)\n",
    "vpp_noise_1 = ptp(noise_1)\n",
    "\n",
    "\n",
    "vpp_noise_noise_1 = []\n",
    "\n",
    "for t in time_r_peaks_noise_1:\n",
    "    start = int((t + 0.10) * sampling_rate)\n",
    "    end = int((t + 0.30)* sampling_rate) \n",
    "    interval = noise_1[start:end]\n",
    "    vpp = ptp(interval)\n",
    "    vpp_noise_noise_1.append(vpp)\n",
    "    \n",
    "vpp_noise_noise_1_mean = mean(vpp_noise_noise_1)\n",
    "\n",
    "snr_ecg_db_noise_1 = 20 * log10(vpp_noise_1/vpp_noise_noise_1_mean)\n",
    "\n",
    "print('SNR with noise = rms',snr_ecg_db_noise_1)"
   ]
  },
  {
   "cell_type": "code",
   "execution_count": 80,
   "id": "dangerous-communication",
   "metadata": {},
   "outputs": [
    {
     "name": "stdout",
     "output_type": "stream",
     "text": [
      "SNR with noise = rms/2:  6.025004760715111\n"
     ]
    }
   ],
   "source": [
    "noise_2 = np.random.normal(0, vrmsECG59/2, len(ECG59[0]))\n",
    "noise_signal_2 = ECG59[0] + noise_2\n",
    "time_r_peaks_noise_2, amplitude_r_peaks_noise_2 = bsnb.detect_r_peaks(noise_signal_2, sampling_rate, time_units=True, plot_result=False)\n",
    "vpp_noise_2 = ptp(noise_2)\n",
    "\n",
    "\n",
    "vpp_noise_noise_2 = []\n",
    "\n",
    "for t in time_r_peaks_noise_2:\n",
    "    start = int((t + 0.10) * sampling_rate)\n",
    "    end = int((t + 0.30)* sampling_rate) \n",
    "    interval = noise_2[start:end]\n",
    "    vpp = ptp(interval)\n",
    "    vpp_noise_noise_2.append(vpp)\n",
    "    \n",
    "vpp_noise_noise_2_mean = mean(vpp_noise_noise_2)\n",
    "\n",
    "snr_ecg_db_noise_2 = 20 * log10(vpp_noise_2/vpp_noise_noise_2_mean)\n",
    "\n",
    "print('SNR with noise = rms/2: ',snr_ecg_db_noise_2)"
   ]
  },
  {
   "cell_type": "code",
   "execution_count": 107,
   "id": "bound-reference",
   "metadata": {},
   "outputs": [
    {
     "name": "stdout",
     "output_type": "stream",
     "text": [
      "SNR with noise = rms/10:  6.450899796251823\n"
     ]
    }
   ],
   "source": [
    "noise_3 = np.random.normal(0, vrmsECG59/10, len(ECG59[0]))\n",
    "noise_signal_3 = ECG59[0] + noise_3\n",
    "time_r_peaks_noise_3, amplitude_r_peaks_noise_3 = bsnb.detect_r_peaks(noise_signal_3, sampling_rate, time_units=True, plot_result=False)\n",
    "vpp_noise_3 = ptp(noise_3)\n",
    "\n",
    "\n",
    "vpp_noise_noise_3 = []\n",
    "\n",
    "for t in time_r_peaks_noise_3:\n",
    "    start = int((t + 0.10) * sampling_rate)\n",
    "    end = int((t + 0.30)* sampling_rate) \n",
    "    interval = noise_3[start:end]\n",
    "    vpp = ptp(interval)\n",
    "    vpp_noise_noise_3.append(vpp)\n",
    "    \n",
    "vpp_noise_noise_3_mean = mean(vpp_noise_noise_3)\n",
    "\n",
    "snr_ecg_db_noise_3 = 20 * log10(vpp_noise_3/vpp_noise_noise_3_mean)\n",
    "\n",
    "print('SNR with noise = rms/10: ',snr_ecg_db_noise_3)"
   ]
  },
  {
   "cell_type": "markdown",
   "id": "attractive-rebate",
   "metadata": {},
   "source": [
    "Al introducir ruido, el SNR baja considerablemente, en este caso mientras más amplio sea el ruido blanco, más opaca la señal original."
   ]
  },
  {
   "cell_type": "markdown",
   "id": "varied-personality",
   "metadata": {},
   "source": [
    "## Bibliografía\n",
    "\n",
    "1. https://biosignalsplux.com/learn/notebooks/Categories/Pre-Process/snr_ECG_rev.php\n",
    "\n",
    "2. Prasad, G. Krishna, and J. S. Sahambi. \"Classification of ECG arrhythmias using multi-resolution analysis and neural networks.\" TENCON 2003. Conference on convergent technologies for Asia-Pacific region. Vol. 1. IEEE, 2003.\n"
   ]
  }
 ],
 "metadata": {
  "kernelspec": {
   "display_name": "Python 3",
   "language": "python",
   "name": "python3"
  },
  "language_info": {
   "codemirror_mode": {
    "name": "ipython",
    "version": 3
   },
   "file_extension": ".py",
   "mimetype": "text/x-python",
   "name": "python",
   "nbconvert_exporter": "python",
   "pygments_lexer": "ipython3",
   "version": "3.8.5"
  }
 },
 "nbformat": 4,
 "nbformat_minor": 5
}
